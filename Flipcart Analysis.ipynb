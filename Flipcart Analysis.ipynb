{
 "cells": [
  {
   "cell_type": "code",
   "execution_count": 3,
   "id": "260f16c1",
   "metadata": {},
   "outputs": [],
   "source": [
    "### Importing all necessary libraries\n",
    "\n",
    "import pandas as pd\n",
    "import matplotlib.pyplot as plt\n",
    "from nltk.sentiment.vader import SentimentIntensityAnalyzer\n",
    "import nltk\n"
   ]
  },
  {
   "cell_type": "code",
   "execution_count": 4,
   "id": "33445e3a",
   "metadata": {},
   "outputs": [],
   "source": [
    "## Read the data from reviews file.\n",
    "\n",
    "df=pd.read_csv(\"flipkart_reviews.csv\")"
   ]
  },
  {
   "cell_type": "code",
   "execution_count": 5,
   "id": "303aeb10",
   "metadata": {},
   "outputs": [
    {
     "data": {
      "text/html": [
       "<div>\n",
       "<style scoped>\n",
       "    .dataframe tbody tr th:only-of-type {\n",
       "        vertical-align: middle;\n",
       "    }\n",
       "\n",
       "    .dataframe tbody tr th {\n",
       "        vertical-align: top;\n",
       "    }\n",
       "\n",
       "    .dataframe thead th {\n",
       "        text-align: right;\n",
       "    }\n",
       "</style>\n",
       "<table border=\"1\" class=\"dataframe\">\n",
       "  <thead>\n",
       "    <tr style=\"text-align: right;\">\n",
       "      <th></th>\n",
       "      <th>Product_name</th>\n",
       "      <th>Review</th>\n",
       "      <th>Rating</th>\n",
       "    </tr>\n",
       "  </thead>\n",
       "  <tbody>\n",
       "    <tr>\n",
       "      <th>0</th>\n",
       "      <td>Lenovo Ideapad Gaming 3 Ryzen 5 Hexa Core 5600...</td>\n",
       "      <td>Best under 60k Great performanceI got it for a...</td>\n",
       "      <td>5.0</td>\n",
       "    </tr>\n",
       "    <tr>\n",
       "      <th>1</th>\n",
       "      <td>Lenovo Ideapad Gaming 3 Ryzen 5 Hexa Core 5600...</td>\n",
       "      <td>Good perfomence...</td>\n",
       "      <td>5.0</td>\n",
       "    </tr>\n",
       "    <tr>\n",
       "      <th>2</th>\n",
       "      <td>Lenovo Ideapad Gaming 3 Ryzen 5 Hexa Core 5600...</td>\n",
       "      <td>Great performance but usually it has also that...</td>\n",
       "      <td>5.0</td>\n",
       "    </tr>\n",
       "    <tr>\n",
       "      <th>3</th>\n",
       "      <td>DELL Inspiron Athlon Dual Core 3050U - (4 GB/2...</td>\n",
       "      <td>My wife is so happy and best product 👌🏻😘</td>\n",
       "      <td>5.0</td>\n",
       "    </tr>\n",
       "    <tr>\n",
       "      <th>4</th>\n",
       "      <td>DELL Inspiron Athlon Dual Core 3050U - (4 GB/2...</td>\n",
       "      <td>Light weight laptop with new amazing features,...</td>\n",
       "      <td>5.0</td>\n",
       "    </tr>\n",
       "  </tbody>\n",
       "</table>\n",
       "</div>"
      ],
      "text/plain": [
       "                                        Product_name  \\\n",
       "0  Lenovo Ideapad Gaming 3 Ryzen 5 Hexa Core 5600...   \n",
       "1  Lenovo Ideapad Gaming 3 Ryzen 5 Hexa Core 5600...   \n",
       "2  Lenovo Ideapad Gaming 3 Ryzen 5 Hexa Core 5600...   \n",
       "3  DELL Inspiron Athlon Dual Core 3050U - (4 GB/2...   \n",
       "4  DELL Inspiron Athlon Dual Core 3050U - (4 GB/2...   \n",
       "\n",
       "                                              Review  Rating  \n",
       "0  Best under 60k Great performanceI got it for a...     5.0  \n",
       "1                                 Good perfomence...     5.0  \n",
       "2  Great performance but usually it has also that...     5.0  \n",
       "3           My wife is so happy and best product 👌🏻😘     5.0  \n",
       "4  Light weight laptop with new amazing features,...     5.0  "
      ]
     },
     "execution_count": 5,
     "metadata": {},
     "output_type": "execute_result"
    }
   ],
   "source": [
    "## Viewing the top 5 records \n",
    "\n",
    "df.head()"
   ]
  },
  {
   "cell_type": "code",
   "execution_count": 6,
   "id": "e72ac746",
   "metadata": {},
   "outputs": [
    {
     "data": {
      "text/plain": [
       "(2304, 3)"
      ]
     },
     "execution_count": 6,
     "metadata": {},
     "output_type": "execute_result"
    }
   ],
   "source": [
    "## Viewing the shape\n",
    "\n",
    "df.shape"
   ]
  },
  {
   "cell_type": "code",
   "execution_count": 7,
   "id": "b4cd7d9b",
   "metadata": {},
   "outputs": [],
   "source": [
    "### Dropping the null values.\n",
    "\n",
    "df.dropna(inplace=True)"
   ]
  },
  {
   "cell_type": "code",
   "execution_count": 8,
   "id": "d43af86a",
   "metadata": {},
   "outputs": [
    {
     "data": {
      "text/plain": [
       "(2303, 3)"
      ]
     },
     "execution_count": 8,
     "metadata": {},
     "output_type": "execute_result"
    }
   ],
   "source": [
    "### View the shape.\n",
    "\n",
    "df.shape"
   ]
  },
  {
   "cell_type": "code",
   "execution_count": 9,
   "id": "ae8c8748",
   "metadata": {},
   "outputs": [],
   "source": [
    "##counts=pd.DataFrame(df['Rating'].value_counts(),columns=['rating','rat_count'])\n",
    "##value_count = df['Rating'].value_counts().rename_axis('unique_values').reset_index('counts')\n",
    "\n",
    "### Converting Rating value-counts to a dataframe \n",
    "\n",
    "\n",
    "value_count = df['Rating'].value_counts().rename_axis('unique_values').reset_index(name='counts')"
   ]
  },
  {
   "cell_type": "code",
   "execution_count": 10,
   "id": "8b0affe9",
   "metadata": {},
   "outputs": [
    {
     "data": {
      "text/html": [
       "<div>\n",
       "<style scoped>\n",
       "    .dataframe tbody tr th:only-of-type {\n",
       "        vertical-align: middle;\n",
       "    }\n",
       "\n",
       "    .dataframe tbody tr th {\n",
       "        vertical-align: top;\n",
       "    }\n",
       "\n",
       "    .dataframe thead th {\n",
       "        text-align: right;\n",
       "    }\n",
       "</style>\n",
       "<table border=\"1\" class=\"dataframe\">\n",
       "  <thead>\n",
       "    <tr style=\"text-align: right;\">\n",
       "      <th></th>\n",
       "      <th>unique_values</th>\n",
       "      <th>counts</th>\n",
       "    </tr>\n",
       "  </thead>\n",
       "  <tbody>\n",
       "    <tr>\n",
       "      <th>0</th>\n",
       "      <td>5.0</td>\n",
       "      <td>1381</td>\n",
       "    </tr>\n",
       "    <tr>\n",
       "      <th>1</th>\n",
       "      <td>4.0</td>\n",
       "      <td>552</td>\n",
       "    </tr>\n",
       "    <tr>\n",
       "      <th>2</th>\n",
       "      <td>1.0</td>\n",
       "      <td>184</td>\n",
       "    </tr>\n",
       "    <tr>\n",
       "      <th>3</th>\n",
       "      <td>3.0</td>\n",
       "      <td>140</td>\n",
       "    </tr>\n",
       "    <tr>\n",
       "      <th>4</th>\n",
       "      <td>2.0</td>\n",
       "      <td>46</td>\n",
       "    </tr>\n",
       "  </tbody>\n",
       "</table>\n",
       "</div>"
      ],
      "text/plain": [
       "   unique_values  counts\n",
       "0            5.0    1381\n",
       "1            4.0     552\n",
       "2            1.0     184\n",
       "3            3.0     140\n",
       "4            2.0      46"
      ]
     },
     "execution_count": 10,
     "metadata": {},
     "output_type": "execute_result"
    }
   ],
   "source": [
    "value_count"
   ]
  },
  {
   "cell_type": "code",
   "execution_count": 11,
   "id": "ad5c811f",
   "metadata": {},
   "outputs": [
    {
     "data": {
      "text/plain": [
       "0    5.0\n",
       "1    4.0\n",
       "2    1.0\n",
       "3    3.0\n",
       "4    2.0\n",
       "Name: unique_values, dtype: float64"
      ]
     },
     "execution_count": 11,
     "metadata": {},
     "output_type": "execute_result"
    }
   ],
   "source": [
    "value_count['unique_values']"
   ]
  },
  {
   "cell_type": "code",
   "execution_count": 12,
   "id": "80ed85fd",
   "metadata": {},
   "outputs": [
    {
     "data": {
      "image/png": "[encoded data removed]",
      "text/plain": [
       "<Figure size 432x288 with 1 Axes>"
      ]
     },
     "metadata": {},
     "output_type": "display_data"
    }
   ],
   "source": [
    "### Drawing a Donut Chart.\n",
    "\n",
    "plt.pie(value_count['unique_values'],  labels=value_count['counts'],\n",
    "        autopct='%1.1f%%', pctdistance=0.85)\n",
    "\n",
    "## Draw Circle\n",
    "centre_circle = plt.Circle((0, 0), 0.70, fc='white')\n",
    "fig = plt.gcf()\n",
    "\n",
    "## Adding circle to pie chart\n",
    "fig.gca().add_artist(centre_circle)\n",
    "\n",
    "plt.title('Distribution of Ratings')\n",
    "\n",
    "plt.show()"
   ]
  },
  {
   "cell_type": "code",
   "execution_count": 20,
   "id": "69b52b42",
   "metadata": {},
   "outputs": [],
   "source": [
    "### Calculating the sentiment scores using Analyzer.\n",
    "\n",
    "analyzer = SentimentIntensityAnalyzer()\n",
    "df.drop(['Product_name','Rating'],axis=1,inplace=True)\n",
    "df['compound'] = [analyzer.polarity_scores(x)['compound'] for x in df['Review']]\n",
    "df['neg'] = [analyzer.polarity_scores(x)['neg'] for x in df['Review']]\n",
    "df['neu'] = [analyzer.polarity_scores(x)['neu'] for x in df['Review']]\n",
    "df['pos'] = [analyzer.polarity_scores(x)['pos'] for x in df['Review']]"
   ]
  },
  {
   "cell_type": "code",
   "execution_count": 21,
   "id": "299269a1",
   "metadata": {},
   "outputs": [
    {
     "data": {
      "text/html": [
       "<div>\n",
       "<style scoped>\n",
       "    .dataframe tbody tr th:only-of-type {\n",
       "        vertical-align: middle;\n",
       "    }\n",
       "\n",
       "    .dataframe tbody tr th {\n",
       "        vertical-align: top;\n",
       "    }\n",
       "\n",
       "    .dataframe thead th {\n",
       "        text-align: right;\n",
       "    }\n",
       "</style>\n",
       "<table border=\"1\" class=\"dataframe\">\n",
       "  <thead>\n",
       "    <tr style=\"text-align: right;\">\n",
       "      <th></th>\n",
       "      <th>Review</th>\n",
       "      <th>compound</th>\n",
       "      <th>neg</th>\n",
       "      <th>neu</th>\n",
       "      <th>pos</th>\n",
       "    </tr>\n",
       "  </thead>\n",
       "  <tbody>\n",
       "    <tr>\n",
       "      <th>0</th>\n",
       "      <td>Best under 60k Great performanceI got it for a...</td>\n",
       "      <td>0.9579</td>\n",
       "      <td>0.073</td>\n",
       "      <td>0.613</td>\n",
       "      <td>0.314</td>\n",
       "    </tr>\n",
       "    <tr>\n",
       "      <th>1</th>\n",
       "      <td>Good perfomence...</td>\n",
       "      <td>0.4404</td>\n",
       "      <td>0.000</td>\n",
       "      <td>0.256</td>\n",
       "      <td>0.744</td>\n",
       "    </tr>\n",
       "    <tr>\n",
       "      <th>2</th>\n",
       "      <td>Great performance but usually it has also that...</td>\n",
       "      <td>0.5789</td>\n",
       "      <td>0.000</td>\n",
       "      <td>0.881</td>\n",
       "      <td>0.119</td>\n",
       "    </tr>\n",
       "    <tr>\n",
       "      <th>3</th>\n",
       "      <td>My wife is so happy and best product 👌🏻😘</td>\n",
       "      <td>0.8808</td>\n",
       "      <td>0.000</td>\n",
       "      <td>0.432</td>\n",
       "      <td>0.568</td>\n",
       "    </tr>\n",
       "    <tr>\n",
       "      <th>4</th>\n",
       "      <td>Light weight laptop with new amazing features,...</td>\n",
       "      <td>0.8360</td>\n",
       "      <td>0.000</td>\n",
       "      <td>0.533</td>\n",
       "      <td>0.467</td>\n",
       "    </tr>\n",
       "    <tr>\n",
       "      <th>...</th>\n",
       "      <td>...</td>\n",
       "      <td>...</td>\n",
       "      <td>...</td>\n",
       "      <td>...</td>\n",
       "      <td>...</td>\n",
       "    </tr>\n",
       "    <tr>\n",
       "      <th>2298</th>\n",
       "      <td>Cool and best in below 9000 prize range ,go fo...</td>\n",
       "      <td>0.8689</td>\n",
       "      <td>0.000</td>\n",
       "      <td>0.449</td>\n",
       "      <td>0.551</td>\n",
       "    </tr>\n",
       "    <tr>\n",
       "      <th>2299</th>\n",
       "      <td>Great display, accurate colours at this price ...</td>\n",
       "      <td>0.6249</td>\n",
       "      <td>0.000</td>\n",
       "      <td>0.631</td>\n",
       "      <td>0.369</td>\n",
       "    </tr>\n",
       "    <tr>\n",
       "      <th>2300</th>\n",
       "      <td>Superb monitor first brought 1 used for 2 mont...</td>\n",
       "      <td>0.6249</td>\n",
       "      <td>0.000</td>\n",
       "      <td>0.745</td>\n",
       "      <td>0.255</td>\n",
       "    </tr>\n",
       "    <tr>\n",
       "      <th>2301</th>\n",
       "      <td>Awesome</td>\n",
       "      <td>0.6249</td>\n",
       "      <td>0.000</td>\n",
       "      <td>0.000</td>\n",
       "      <td>1.000</td>\n",
       "    </tr>\n",
       "    <tr>\n",
       "      <th>2302</th>\n",
       "      <td>Only one issue with adapter</td>\n",
       "      <td>0.0000</td>\n",
       "      <td>0.000</td>\n",
       "      <td>1.000</td>\n",
       "      <td>0.000</td>\n",
       "    </tr>\n",
       "  </tbody>\n",
       "</table>\n",
       "<p>2303 rows × 5 columns</p>\n",
       "</div>"
      ],
      "text/plain": [
       "                                                 Review  compound    neg  \\\n",
       "0     Best under 60k Great performanceI got it for a...    0.9579  0.073   \n",
       "1                                    Good perfomence...    0.4404  0.000   \n",
       "2     Great performance but usually it has also that...    0.5789  0.000   \n",
       "3              My wife is so happy and best product 👌🏻😘    0.8808  0.000   \n",
       "4     Light weight laptop with new amazing features,...    0.8360  0.000   \n",
       "...                                                 ...       ...    ...   \n",
       "2298  Cool and best in below 9000 prize range ,go fo...    0.8689  0.000   \n",
       "2299  Great display, accurate colours at this price ...    0.6249  0.000   \n",
       "2300  Superb monitor first brought 1 used for 2 mont...    0.6249  0.000   \n",
       "2301                                            Awesome    0.6249  0.000   \n",
       "2302                        Only one issue with adapter    0.0000  0.000   \n",
       "\n",
       "        neu    pos  \n",
       "0     0.613  0.314  \n",
       "1     0.256  0.744  \n",
       "2     0.881  0.119  \n",
       "3     0.432  0.568  \n",
       "4     0.533  0.467  \n",
       "...     ...    ...  \n",
       "2298  0.449  0.551  \n",
       "2299  0.631  0.369  \n",
       "2300  0.745  0.255  \n",
       "2301  0.000  1.000  \n",
       "2302  1.000  0.000  \n",
       "\n",
       "[2303 rows x 5 columns]"
      ]
     },
     "execution_count": 21,
     "metadata": {},
     "output_type": "execute_result"
    }
   ],
   "source": [
    "df"
   ]
  },
  {
   "cell_type": "code",
   "execution_count": 29,
   "id": "e29eb318",
   "metadata": {},
   "outputs": [],
   "source": [
    "## Calculate the sum of their respective scores \n",
    "\n",
    "Positive=df['pos'].sum()\n",
    "Negative=df['neg'].sum()\n",
    "Neutral=df['neu'].sum()"
   ]
  },
  {
   "cell_type": "code",
   "execution_count": 30,
   "id": "ea150504",
   "metadata": {},
   "outputs": [
    {
     "name": "stdout",
     "output_type": "stream",
     "text": [
      "Total Postitive Score is :835.34\n",
      "Total Negative Score is :104.92\n",
      "Total Neutral Score is :1362.74\n"
     ]
    }
   ],
   "source": [
    "### Dispaly the total Score.\n",
    "\n",
    "print(f\"Total Postitive Score is :{Positive:0.2f}\")\n",
    "print(f\"Total Negative Score is :{Negative:0.2f}\")\n",
    "print(f\"Total Neutral Score is :{Neutral:0.2f}\")"
   ]
  }
 ],
 "metadata": {
  "kernelspec": {
   "display_name": "Python 3 (ipykernel)",
   "language": "python",
   "name": "python3"
  },
  "language_info": {
   "codemirror_mode": {
    "name": "ipython",
    "version": 3
   },
   "file_extension": ".py",
   "mimetype": "text/x-python",
   "name": "python",
   "nbconvert_exporter": "python",
   "pygments_lexer": "ipython3",
   "version": "3.9.7"
  }
 },
 "nbformat": 4,
 "nbformat_minor": 5
}
